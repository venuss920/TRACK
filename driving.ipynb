{
 "cells": [
  {
   "cell_type": "code",
   "execution_count": 16,
   "metadata": {},
   "outputs": [],
   "source": [
    "import pandas as pd\n",
    "import numpy as np\n",
    "import matplotlib.pyplot as plt\n",
    "import keras\n",
    "from keras.models import Sequential\n",
    "from keras.optimizers import Adam\n",
    "from keras.layers import Conv2D, MaxPooling2D, Dropout, Flatten, Dense\n",
    "import cv2 as cv\n",
    "import ntpath\n",
    "import random\n",
    "\n"
   ]
  },
  {
   "cell_type": "code",
   "execution_count": 30,
   "metadata": {},
   "outputs": [
    {
     "name": "stdout",
     "output_type": "stream",
     "text": [
      "[-1.         -0.96363636 -0.92727273 -0.89090909 -0.85454545 -0.81818182\n",
      " -0.78181818 -0.74545455 -0.70909091 -0.67272727 -0.63636364 -0.6\n",
      " -0.56363636 -0.52727273 -0.49090909 -0.45454545 -0.41818182 -0.38181818\n",
      " -0.34545455 -0.30909091 -0.27272727 -0.23636364 -0.2        -0.16363636\n",
      " -0.12727273 -0.09090909 -0.05454545 -0.01818182  0.01818182  0.05454545\n",
      "  0.09090909  0.12727273  0.16363636  0.2         0.23636364  0.27272727\n",
      "  0.30909091  0.34545455  0.38181818  0.41818182  0.45454545  0.49090909\n",
      "  0.52727273  0.56363636  0.6         0.63636364  0.67272727  0.70909091\n",
      "  0.74545455  0.78181818  0.81818182  0.85454545  0.89090909  0.92727273\n",
      "  0.96363636  1.        ]\n"
     ]
    },
    {
     "name": "stderr",
     "output_type": "stream",
     "text": [
      "C:\\Users\\shahv\\AppData\\Local\\Temp\\ipykernel_4208\\3619025338.py:5: FutureWarning: Passing a negative integer is deprecated in version 1.0 and will not be supported in future version. Instead, use None to not limit the column width.\n",
      "  pd.set_option('display.max_colwidth',-1)\n"
     ]
    },
    {
     "data": {
      "text/plain": [
       "[<matplotlib.lines.Line2D at 0x23a0c1b6140>]"
      ]
     },
     "execution_count": 30,
     "metadata": {},
     "output_type": "execute_result"
    },
    {
     "data": {
      "image/png": "[encoded data removed]",
      "text/plain": [
       "<Figure size 432x288 with 1 Axes>"
      ]
     },
     "metadata": {
      "needs_background": "light"
     },
     "output_type": "display_data"
    }
   ],
   "source": [
    "#Little bit of Exploratory Data Analysis/ DATA VISUALIZATION...\n",
    "\n",
    "columns = [\"Center\",\"Left\",\"Right\",\"Steering\",\"throttle\",\"Reverse\", \"speed\"]\n",
    "data = pd.read_csv('C:\\\\Users\\\\shahv\\\\DATA_SELF_DRIVING\\\\TRACK\\\\driving_log.csv',names = columns)\n",
    "pd.set_option('display.max_colwidth',-1)\n",
    "data.head()\n",
    "\n",
    "def path_1(path):                      #editing the directory path\n",
    "    head, tail = ntpath.split(path)\n",
    "    return tail\n",
    "data[\"Center\"]=data[\"Center\"].apply(path_1)\n",
    "data[\"Left\"]=data[\"Left\"].apply(path_1)\n",
    "data[\"Right\"]=data[\"Right\"].apply(path_1)\n",
    "data.head()\n",
    "\n",
    "#plotting steering angles/main focus on histogram for the distribution of the data..\n",
    "numbers = 55\n",
    "Threshold = 150\n",
    "histogram, bin = np.histogram(data[\"Steering\"],numbers)\n",
    "print(bin)\n",
    "\n",
    "plt.hist(data[\"Steering\"],numbers)\n",
    "plt.plot((np.min(data[\"Steering\"]),np.max(data[\"Steering\"])),(Threshold,Threshold))\n",
    "\n",
    "\n",
    "\n",
    "\n",
    "\n"
   ]
  },
  {
   "cell_type": "code",
   "execution_count": 45,
   "metadata": {},
   "outputs": [
    {
     "name": "stdout",
     "output_type": "stream",
     "text": [
      "[-1.         -0.96363636 -0.92727273 -0.89090909 -0.85454545 -0.81818182\n",
      " -0.78181818 -0.74545455 -0.70909091 -0.67272727 -0.63636364 -0.6\n",
      " -0.56363636 -0.52727273 -0.49090909 -0.45454545 -0.41818182 -0.38181818\n",
      " -0.34545455 -0.30909091 -0.27272727 -0.23636364 -0.2        -0.16363636\n",
      " -0.12727273 -0.09090909 -0.05454545 -0.01818182  0.01818182  0.05454545\n",
      "  0.09090909  0.12727273  0.16363636  0.2         0.23636364  0.27272727\n",
      "  0.30909091  0.34545455  0.38181818  0.41818182  0.45454545  0.49090909\n",
      "  0.52727273  0.56363636  0.6         0.63636364  0.67272727  0.70909091\n",
      "  0.74545455  0.78181818  0.81818182  0.85454545  0.89090909  0.92727273\n",
      "  0.96363636  1.        ]\n"
     ]
    },
    {
     "data": {
      "text/plain": [
       "[<matplotlib.lines.Line2D at 0x23a0e094fa0>]"
      ]
     },
     "execution_count": 45,
     "metadata": {},
     "output_type": "execute_result"
    },
    {
     "data": {
      "image/png": "[encoded data removed]",
      "text/plain": [
       "<Figure size 432x288 with 1 Axes>"
      ]
     },
     "metadata": {
      "needs_background": "light"
     },
     "output_type": "display_data"
    }
   ],
   "source": [
    "#DATA BALANCING: PREPROCESSING TECHNIQUESSSS:::\n",
    "from sklearn.utils import shuffle\n",
    "remove = []\n",
    "for i in range(numbers):\n",
    "    ls = []\n",
    "    for j in range(len(data[\"Steering\"])):\n",
    "        if data[\"Steering\"][j]>= bin[i] and data[\"Steering\"][j] <= bin[i+1]:\n",
    "            ls.append(j)\n",
    "    ls = shuffle(ls)  \n",
    "    ls = ls[Threshold:]\n",
    "    remove.extend(ls)   \n",
    "data.drop(data.index[remove], inplace = True)\n",
    "\n",
    "histogram, bin = np.histogram(data[\"Steering\"],numbers)\n",
    "print(bin)\n",
    "\n",
    "plt.hist(data[\"Steering\"],numbers)\n",
    "plt.plot((np.min(data[\"Steering\"]),np.max(data[\"Steering\"])),(Threshold,Threshold))"
   ]
  },
  {
   "cell_type": "code",
   "execution_count": 65,
   "metadata": {},
   "outputs": [
    {
     "name": "stdout",
     "output_type": "stream",
     "text": [
      "['C:\\\\Users\\\\shahv\\\\DATA_SELF_DRIVING\\\\TRACK\\\\IMG\\\\center_2023_03_01_09_50_06_524.jpg'\n",
      " 'C:\\\\Users\\\\shahv\\\\DATA_SELF_DRIVING\\\\TRACK\\\\IMG\\\\center_2023_03_01_09_50_06_593.jpg'\n",
      " 'C:\\\\Users\\\\shahv\\\\DATA_SELF_DRIVING\\\\TRACK\\\\IMG\\\\center_2023_03_01_09_50_06_664.jpg'\n",
      " ...\n",
      " 'C:\\\\Users\\\\shahv\\\\DATA_SELF_DRIVING\\\\TRACK\\\\IMG\\\\center_2023_03_01_09_57_17_225.jpg'\n",
      " 'C:\\\\Users\\\\shahv\\\\DATA_SELF_DRIVING\\\\TRACK\\\\IMG\\\\center_2023_03_01_09_57_18_339.jpg'\n",
      " 'C:\\\\Users\\\\shahv\\\\DATA_SELF_DRIVING\\\\TRACK\\\\IMG\\\\center_2023_03_01_09_57_20_936.jpg']\n",
      "(1501,)\n"
     ]
    }
   ],
   "source": [
    "import os\n",
    "def  load(path_2):\n",
    "    img_path = []\n",
    "    steering = []\n",
    "    for i in range(len(data)):\n",
    "        index = data.iloc[i]\n",
    "        #print(index)\n",
    "        Center, Left, Right = index[0],index[1],index[2]\n",
    "        img_path.append(os.path.join(path_2, Center.strip()))\n",
    "        steering.append(float(index[3]))\n",
    "    img_path = np.asarray(img_path)\n",
    "    steering = np.asarray(steering)\n",
    "    return img_path, steering \n",
    "img_path, steering = load('C:\\\\Users\\\\shahv\\\\DATA_SELF_DRIVING\\\\TRACK\\\\IMG')    \n",
    "print(img_path)        \n",
    "print(steering.shape)       \n",
    "\n",
    "\n"
   ]
  },
  {
   "cell_type": "code",
   "execution_count": null,
   "metadata": {},
   "outputs": [],
   "source": []
  }
 ],
 "metadata": {
  "kernelspec": {
   "display_name": "Python 3",
   "language": "python",
   "name": "python3"
  },
  "language_info": {
   "codemirror_mode": {
    "name": "ipython",
    "version": 3
   },
   "file_extension": ".py",
   "mimetype": "text/x-python",
   "name": "python",
   "nbconvert_exporter": "python",
   "pygments_lexer": "ipython3",
   "version": "3.10.5"
  },
  "orig_nbformat": 4,
  "vscode": {
   "interpreter": {
    "hash": "621ea937b0b5d233a1cac6d96e53d0975ceaebe529ce71ef79c4ae82e76b1d2a"
   }
  }
 },
 "nbformat": 4,
 "nbformat_minor": 2
}
