{
 "cells": [
  {
   "cell_type": "code",
   "execution_count": 161,
   "metadata": {},
   "outputs": [],
   "source": [
    "import pandas as pd\n",
    "import numpy as np\n",
    "import matplotlib.pyplot as plt\n",
    "import keras\n",
    "from keras.models import Sequential\n",
    "from keras.optimizers import Adam\n",
    "from keras.layers import Conv2D, MaxPooling2D, Dropout, Flatten, Dense\n",
    "import cv2 as cv\n",
    "import ntpath\n",
    "import random\n",
    "\n"
   ]
  },
  {
   "cell_type": "code",
   "execution_count": 162,
   "metadata": {},
   "outputs": [
    {
     "name": "stdout",
     "output_type": "stream",
     "text": [
      "[-1.         -0.96363636 -0.92727273 -0.89090909 -0.85454545 -0.81818182\n",
      " -0.78181818 -0.74545455 -0.70909091 -0.67272727 -0.63636364 -0.6\n",
      " -0.56363636 -0.52727273 -0.49090909 -0.45454545 -0.41818182 -0.38181818\n",
      " -0.34545455 -0.30909091 -0.27272727 -0.23636364 -0.2        -0.16363636\n",
      " -0.12727273 -0.09090909 -0.05454545 -0.01818182  0.01818182  0.05454545\n",
      "  0.09090909  0.12727273  0.16363636  0.2         0.23636364  0.27272727\n",
      "  0.30909091  0.34545455  0.38181818  0.41818182  0.45454545  0.49090909\n",
      "  0.52727273  0.56363636  0.6         0.63636364  0.67272727  0.70909091\n",
      "  0.74545455  0.78181818  0.81818182  0.85454545  0.89090909  0.92727273\n",
      "  0.96363636  1.        ]\n"
     ]
    },
    {
     "name": "stderr",
     "output_type": "stream",
     "text": [
      "C:\\Users\\shahv\\AppData\\Local\\Temp\\ipykernel_620\\3512300308.py:5: FutureWarning: Passing a negative integer is deprecated in version 1.0 and will not be supported in future version. Instead, use None to not limit the column width.\n",
      "  pd.set_option('display.max_colwidth',-1)\n"
     ]
    },
    {
     "data": {
      "text/plain": [
       "[<matplotlib.lines.Line2D at 0x22e05aa8580>]"
      ]
     },
     "execution_count": 162,
     "metadata": {},
     "output_type": "execute_result"
    },
    {
     "data": {
      "image/png": "[encoded data removed]",
      "text/plain": [
       "<Figure size 432x288 with 1 Axes>"
      ]
     },
     "metadata": {
      "needs_background": "light"
     },
     "output_type": "display_data"
    }
   ],
   "source": [
    "#Little bit of Exploratory Data Analysis/ DATA VISUALIZATION...\n",
    "\n",
    "columns = [\"Center\",\"Left\",\"Right\",\"Steering\",\"throttle\",\"Reverse\", \"speed\"]\n",
    "data = pd.read_csv('C:\\\\Users\\\\shahv\\\\DATA_SELF_DRIVING\\\\track-master\\\\driving_log.csv',names = columns)\n",
    "pd.set_option('display.max_colwidth',-1)\n",
    "data.head()\n",
    "\n",
    "def path_1(path):                      #editing the directory path\n",
    "    head, tail = ntpath.split(path)\n",
    "    return tail\n",
    "data[\"Center\"]=data[\"Center\"].apply(path_1)\n",
    "data[\"Left\"]=data[\"Left\"].apply(path_1)\n",
    "data[\"Right\"]=data[\"Right\"].apply(path_1)\n",
    "data.head()\n",
    "\n",
    "#plotting steering angles/main focus on histogram for the distribution of the data..\n",
    "numbers = 55\n",
    "Threshold = 150\n",
    "histogram, bin = np.histogram(data[\"Steering\"],numbers)\n",
    "print(bin)\n",
    "\n",
    "plt.hist(data[\"Steering\"],numbers)\n",
    "plt.plot((np.min(data[\"Steering\"]),np.max(data[\"Steering\"])),(Threshold,Threshold))\n",
    "\n",
    "\n",
    "\n",
    "\n",
    "\n"
   ]
  },
  {
   "cell_type": "code",
   "execution_count": 163,
   "metadata": {},
   "outputs": [
    {
     "name": "stdout",
     "output_type": "stream",
     "text": [
      "[-1.         -0.96363636 -0.92727273 -0.89090909 -0.85454545 -0.81818182\n",
      " -0.78181818 -0.74545455 -0.70909091 -0.67272727 -0.63636364 -0.6\n",
      " -0.56363636 -0.52727273 -0.49090909 -0.45454545 -0.41818182 -0.38181818\n",
      " -0.34545455 -0.30909091 -0.27272727 -0.23636364 -0.2        -0.16363636\n",
      " -0.12727273 -0.09090909 -0.05454545 -0.01818182  0.01818182  0.05454545\n",
      "  0.09090909  0.12727273  0.16363636  0.2         0.23636364  0.27272727\n",
      "  0.30909091  0.34545455  0.38181818  0.41818182  0.45454545  0.49090909\n",
      "  0.52727273  0.56363636  0.6         0.63636364  0.67272727  0.70909091\n",
      "  0.74545455  0.78181818  0.81818182  0.85454545  0.89090909  0.92727273\n",
      "  0.96363636  1.        ]\n"
     ]
    },
    {
     "data": {
      "text/plain": [
       "[<matplotlib.lines.Line2D at 0x22e0593b880>]"
      ]
     },
     "execution_count": 163,
     "metadata": {},
     "output_type": "execute_result"
    },
    {
     "data": {
      "image/png": "[encoded data removed]",
      "text/plain": [
       "<Figure size 432x288 with 1 Axes>"
      ]
     },
     "metadata": {
      "needs_background": "light"
     },
     "output_type": "display_data"
    }
   ],
   "source": [
    "#DATA BALANCING: PREPROCESSING TECHNIQUESSSS:::\n",
    "from sklearn.utils import shuffle\n",
    "remove = []\n",
    "for i in range(numbers):\n",
    "    ls = []\n",
    "    for j in range(len(data[\"Steering\"])):\n",
    "        if data[\"Steering\"][j]>= bin[i] and data[\"Steering\"][j] <= bin[i+1]:\n",
    "            ls.append(j)\n",
    "    ls = shuffle(ls)  \n",
    "    ls = ls[Threshold:]\n",
    "    remove.extend(ls)   \n",
    "data.drop(data.index[remove], inplace = True)\n",
    "\n",
    "histogram, bin = np.histogram(data[\"Steering\"],numbers)\n",
    "print(bin)\n",
    "\n",
    "plt.hist(data[\"Steering\"],numbers)\n",
    "plt.plot((np.min(data[\"Steering\"]),np.max(data[\"Steering\"])),(Threshold,Threshold))"
   ]
  },
  {
   "cell_type": "code",
   "execution_count": 164,
   "metadata": {},
   "outputs": [
    {
     "name": "stdout",
     "output_type": "stream",
     "text": [
      "['C:\\\\Users\\\\shahv\\\\DATA_SELF_DRIVING\\\\track-master\\\\IMG\\\\center_2018_07_16_17_11_44_413.jpg'\n",
      " 'C:\\\\Users\\\\shahv\\\\DATA_SELF_DRIVING\\\\track-master\\\\IMG\\\\center_2018_07_16_17_11_44_485.jpg'\n",
      " 'C:\\\\Users\\\\shahv\\\\DATA_SELF_DRIVING\\\\track-master\\\\IMG\\\\center_2018_07_16_17_11_44_558.jpg'\n",
      " ...\n",
      " 'C:\\\\Users\\\\shahv\\\\DATA_SELF_DRIVING\\\\track-master\\\\IMG\\\\center_2018_07_16_17_16_29_761.jpg'\n",
      " 'C:\\\\Users\\\\shahv\\\\DATA_SELF_DRIVING\\\\track-master\\\\IMG\\\\center_2018_07_16_17_16_29_833.jpg'\n",
      " 'C:\\\\Users\\\\shahv\\\\DATA_SELF_DRIVING\\\\track-master\\\\IMG\\\\center_2018_07_16_17_16_30_200.jpg']\n",
      "(1250,)\n",
      "1000\n",
      "250\n",
      "1000\n",
      "250\n"
     ]
    }
   ],
   "source": [
    "import os\n",
    "from sklearn.model_selection import train_test_split\n",
    "def  load(path_2):\n",
    "    img_path = []\n",
    "    steering = []\n",
    "    for i in range(len(data)):\n",
    "        index = data.iloc[i]\n",
    "        #print(index)\n",
    "        Center, Left, Right = index[0],index[1],index[2]\n",
    "        img_path.append(os.path.join(path_2, Center.strip()))\n",
    "        steering.append(float(index[3]))\n",
    "    img_path = np.asarray(img_path)\n",
    "    steering = np.asarray(steering)\n",
    "    return img_path, steering \n",
    "img_path, steering = load('C:\\\\Users\\\\shahv\\\\DATA_SELF_DRIVING\\\\track-master\\\\IMG')    \n",
    "print(img_path)        \n",
    "print(steering.shape)       \n",
    "\n",
    "\n",
    "x_train,x_val,y_train,y_val = train_test_split(img_path, steering, test_size  = 0.2,random_state = 6)\n",
    "print(len(x_train))\n",
    "print(len(x_val))\n",
    "print(len(y_train))\n",
    "print(len(y_val))"
   ]
  },
  {
   "cell_type": "code",
   "execution_count": 165,
   "metadata": {},
   "outputs": [
    {
     "data": {
      "text/plain": [
       "(array([ 7.,  1.,  0.,  0.,  1.,  0.,  0.,  0.,  1.,  0.,  0.,  0.,  1.,\n",
       "         3.,  0.,  4.,  2.,  2.,  3., 12., 11.,  5., 14.,  9., 12.,  7.,\n",
       "        15., 37., 16.,  6., 12., 12.,  5., 16., 10.,  6.,  2.,  4.,  2.,\n",
       "         2.,  1.,  0.,  0.,  0.,  0.,  1.,  0.,  1.,  0.,  0.,  0.,  1.,\n",
       "         0.,  0.,  6.]),\n",
       " array([-1.        , -0.96363636, -0.92727273, -0.89090909, -0.85454545,\n",
       "        -0.81818182, -0.78181818, -0.74545455, -0.70909091, -0.67272727,\n",
       "        -0.63636364, -0.6       , -0.56363636, -0.52727273, -0.49090909,\n",
       "        -0.45454545, -0.41818182, -0.38181818, -0.34545455, -0.30909091,\n",
       "        -0.27272727, -0.23636364, -0.2       , -0.16363636, -0.12727273,\n",
       "        -0.09090909, -0.05454545, -0.01818182,  0.01818182,  0.05454545,\n",
       "         0.09090909,  0.12727273,  0.16363636,  0.2       ,  0.23636364,\n",
       "         0.27272727,  0.30909091,  0.34545455,  0.38181818,  0.41818182,\n",
       "         0.45454545,  0.49090909,  0.52727273,  0.56363636,  0.6       ,\n",
       "         0.63636364,  0.67272727,  0.70909091,  0.74545455,  0.78181818,\n",
       "         0.81818182,  0.85454545,  0.89090909,  0.92727273,  0.96363636,\n",
       "         1.        ]),\n",
       " <BarContainer object of 55 artists>)"
      ]
     },
     "execution_count": 165,
     "metadata": {},
     "output_type": "execute_result"
    },
    {
     "data": {
      "image/png": "[encoded data removed]",
      "text/plain": [
       "<Figure size 864x288 with 2 Axes>"
      ]
     },
     "metadata": {
      "needs_background": "light"
     },
     "output_type": "display_data"
    }
   ],
   "source": [
    "fig, ax = plt.subplots(1,2,figsize =(12,4))\n",
    "ax[0].hist(y_train,numbers, width = 0.03)\n",
    "ax[1].hist(y_val,numbers, width = 0.03)\n"
   ]
  },
  {
   "cell_type": "code",
   "execution_count": 166,
   "metadata": {},
   "outputs": [
    {
     "name": "stdout",
     "output_type": "stream",
     "text": [
      "(1000, 60, 200, 3)\n"
     ]
    },
    {
     "data": {
      "image/png": "[encoded data removed]",
      "text/plain": [
       "<Figure size 432x288 with 1 Axes>"
      ]
     },
     "metadata": {
      "needs_background": "light"
     },
     "output_type": "display_data"
    }
   ],
   "source": [
    "#IMAGE PREPROCESSING.....\n",
    "\n",
    "def preprocess(img):\n",
    "    m = cv.imread(img)\n",
    "    m = m[60:135,:,:]\n",
    "    m = cv.cvtColor(m,cv.COLOR_RGB2YUV)\n",
    "    m = cv.resize(m,(200,60))\n",
    "    m = cv.GaussianBlur(m,(3,3),0)\n",
    "    m = m/255   #Normalisation of the Data.\n",
    "    return m\n",
    "image = img_path[10]\n",
    "\n",
    "#original = cv.imread(image)\n",
    "#preprocessd = preprocess(image)\n",
    "\n",
    "#fig, ax = plt.subplots(1,2,figsize =(12,4))\n",
    "#ax[0].imshow(original)\n",
    "#ax[1].imshow(preprocessd)\n",
    "\n",
    "\n",
    "x_train= np.array(list(map(preprocess,x_train)))\n",
    "x_val= np.array(list(map(preprocess,x_val)))\n",
    "plt.imshow(x_train[random.randint(0, len(data)-1)])\n",
    "print(x_train.shape)"
   ]
  },
  {
   "cell_type": "code",
   "execution_count": 167,
   "metadata": {},
   "outputs": [
    {
     "name": "stdout",
     "output_type": "stream",
     "text": [
      "Model: \"sequential_15\"\n",
      "_________________________________________________________________\n",
      " Layer (type)                Output Shape              Param #   \n",
      "=================================================================\n",
      " conv2d_58 (Conv2D)          (None, 28, 98, 24)        1824      \n",
      "                                                                 \n",
      " conv2d_59 (Conv2D)          (None, 12, 47, 36)        21636     \n",
      "                                                                 \n",
      " conv2d_60 (Conv2D)          (None, 4, 22, 48)         43248     \n",
      "                                                                 \n",
      " conv2d_61 (Conv2D)          (None, 3, 21, 64)         12352     \n",
      "                                                                 \n",
      " conv2d_62 (Conv2D)          (None, 2, 20, 64)         16448     \n",
      "                                                                 \n",
      " dropout_14 (Dropout)        (None, 2, 20, 64)         0         \n",
      "                                                                 \n",
      " flatten_7 (Flatten)         (None, 2560)              0         \n",
      "                                                                 \n",
      " dropout_15 (Dropout)        (None, 2560)              0         \n",
      "                                                                 \n",
      " dense_28 (Dense)            (None, 100)               256100    \n",
      "                                                                 \n",
      " dense_29 (Dense)            (None, 50)                5050      \n",
      "                                                                 \n",
      " dense_30 (Dense)            (None, 10)                510       \n",
      "                                                                 \n",
      " dense_31 (Dense)            (None, 1)                 11        \n",
      "                                                                 \n",
      "=================================================================\n",
      "Total params: 357,179\n",
      "Trainable params: 357,179\n",
      "Non-trainable params: 0\n",
      "_________________________________________________________________\n",
      "None\n",
      "Epoch 1/30\n"
     ]
    },
    {
     "name": "stderr",
     "output_type": "stream",
     "text": [
      "c:\\Users\\shahv\\3D Objects\\Python310\\lib\\site-packages\\keras\\optimizers\\optimizer_v2\\adam.py:117: UserWarning: The `lr` argument is deprecated, use `learning_rate` instead.\n",
      "  super().__init__(name, **kwargs)\n"
     ]
    },
    {
     "name": "stdout",
     "output_type": "stream",
     "text": [
      "10/10 [==============================] - 3s 211ms/step - loss: 0.1257 - val_loss: 0.1056\n",
      "Epoch 2/30\n",
      "10/10 [==============================] - 2s 186ms/step - loss: 0.1208 - val_loss: 0.1056\n",
      "Epoch 3/30\n",
      "10/10 [==============================] - 2s 184ms/step - loss: 0.1206 - val_loss: 0.1055\n",
      "Epoch 4/30\n",
      "10/10 [==============================] - 2s 185ms/step - loss: 0.1205 - val_loss: 0.1049\n",
      "Epoch 5/30\n",
      "10/10 [==============================] - 2s 189ms/step - loss: 0.1187 - val_loss: 0.0996\n",
      "Epoch 6/30\n",
      "10/10 [==============================] - 2s 186ms/step - loss: 0.1100 - val_loss: 0.0844\n",
      "Epoch 7/30\n",
      "10/10 [==============================] - 2s 185ms/step - loss: 0.1038 - val_loss: 0.0742\n",
      "Epoch 8/30\n",
      "10/10 [==============================] - 2s 186ms/step - loss: 0.0914 - val_loss: 0.0663\n",
      "Epoch 9/30\n",
      "10/10 [==============================] - 2s 187ms/step - loss: 0.0810 - val_loss: 0.0557\n",
      "Epoch 10/30\n",
      "10/10 [==============================] - 2s 195ms/step - loss: 0.0695 - val_loss: 0.0473\n",
      "Epoch 11/30\n",
      "10/10 [==============================] - 2s 185ms/step - loss: 0.0537 - val_loss: 0.0426\n",
      "Epoch 12/30\n",
      "10/10 [==============================] - 2s 188ms/step - loss: 0.0498 - val_loss: 0.0359\n",
      "Epoch 13/30\n",
      "10/10 [==============================] - 2s 189ms/step - loss: 0.0444 - val_loss: 0.0358\n",
      "Epoch 14/30\n",
      "10/10 [==============================] - 2s 189ms/step - loss: 0.0421 - val_loss: 0.0403\n",
      "Epoch 15/30\n",
      "10/10 [==============================] - 2s 191ms/step - loss: 0.0407 - val_loss: 0.0316\n",
      "Epoch 16/30\n",
      "10/10 [==============================] - 2s 202ms/step - loss: 0.0383 - val_loss: 0.0327\n",
      "Epoch 17/30\n",
      "10/10 [==============================] - 2s 193ms/step - loss: 0.0378 - val_loss: 0.0319\n",
      "Epoch 18/30\n",
      "10/10 [==============================] - 2s 201ms/step - loss: 0.0367 - val_loss: 0.0316\n",
      "Epoch 19/30\n",
      "10/10 [==============================] - 2s 190ms/step - loss: 0.0345 - val_loss: 0.0327\n",
      "Epoch 20/30\n",
      "10/10 [==============================] - 2s 209ms/step - loss: 0.0341 - val_loss: 0.0314\n",
      "Epoch 21/30\n",
      "10/10 [==============================] - 2s 212ms/step - loss: 0.0352 - val_loss: 0.0323\n",
      "Epoch 22/30\n",
      "10/10 [==============================] - 2s 195ms/step - loss: 0.0347 - val_loss: 0.0321\n",
      "Epoch 23/30\n",
      "10/10 [==============================] - 2s 194ms/step - loss: 0.0335 - val_loss: 0.0302\n",
      "Epoch 24/30\n",
      "10/10 [==============================] - 2s 204ms/step - loss: 0.0311 - val_loss: 0.0295\n",
      "Epoch 25/30\n",
      "10/10 [==============================] - 2s 224ms/step - loss: 0.0298 - val_loss: 0.0282\n",
      "Epoch 26/30\n",
      "10/10 [==============================] - 2s 200ms/step - loss: 0.0311 - val_loss: 0.0306\n",
      "Epoch 27/30\n",
      "10/10 [==============================] - 2s 193ms/step - loss: 0.0294 - val_loss: 0.0288\n",
      "Epoch 28/30\n",
      "10/10 [==============================] - 2s 188ms/step - loss: 0.0293 - val_loss: 0.0271\n",
      "Epoch 29/30\n",
      "10/10 [==============================] - 2s 186ms/step - loss: 0.0328 - val_loss: 0.0275\n",
      "Epoch 30/30\n",
      "10/10 [==============================] - 2s 188ms/step - loss: 0.0301 - val_loss: 0.0270\n"
     ]
    },
    {
     "data": {
      "text/plain": [
       "<keras.callbacks.History at 0x22e0768e6b0>"
      ]
     },
     "execution_count": 167,
     "metadata": {},
     "output_type": "execute_result"
    }
   ],
   "source": [
    "#NVIDIA MODEL....\n",
    "\n",
    "def model_nvidia():\n",
    "    model = Sequential()\n",
    "    model.add(Conv2D(24,kernel_size =(5,5), strides = (2,2), input_shape =(60,200,3), activation = 'relu' ))\n",
    "    model.add(Conv2D(36,kernel_size =(5,5), strides = (2,2), activation = 'relu' ))\n",
    "    model.add(Conv2D(48,kernel_size =(5,5), strides = (2,2), activation = 'relu' ))\n",
    "    model.add(Conv2D(64,kernel_size =(2,2), activation = 'relu' ))\n",
    "    model.add(Conv2D(64,kernel_size =(2,2), activation = 'relu' ))\n",
    "    model.add(Dropout(0.5))\n",
    "    \n",
    "    model.add(Flatten())\n",
    "    \n",
    "    model.add(Dropout(0.5))\n",
    "    model.add(Dense(100,activation = 'relu'))\n",
    "    model.add(Dense(50,activation = 'relu'))\n",
    "    model.add(Dense(10,activation = 'relu'))\n",
    "    model.add(Dense(1))\n",
    "    model.compile(Adam(lr = 0.001), loss = 'mse')\n",
    "    return model\n",
    "\n",
    "model = model_nvidia()\n",
    "print(model.summary())\n",
    "model.fit(x_train,y_train, epochs = 30, validation_data=(x_val,y_val), batch_size = 100, verbose = 1,shuffle = 1)"
   ]
  },
  {
   "cell_type": "code",
   "execution_count": null,
   "metadata": {},
   "outputs": [],
   "source": []
  },
  {
   "cell_type": "code",
   "execution_count": null,
   "metadata": {},
   "outputs": [],
   "source": []
  }
 ],
 "metadata": {
  "kernelspec": {
   "display_name": "Python 3",
   "language": "python",
   "name": "python3"
  },
  "language_info": {
   "codemirror_mode": {
    "name": "ipython",
    "version": 3
   },
   "file_extension": ".py",
   "mimetype": "text/x-python",
   "name": "python",
   "nbconvert_exporter": "python",
   "pygments_lexer": "ipython3",
   "version": "3.10.5"
  },
  "orig_nbformat": 4,
  "vscode": {
   "interpreter": {
    "hash": "621ea937b0b5d233a1cac6d96e53d0975ceaebe529ce71ef79c4ae82e76b1d2a"
   }
  }
 },
 "nbformat": 4,
 "nbformat_minor": 2
}
